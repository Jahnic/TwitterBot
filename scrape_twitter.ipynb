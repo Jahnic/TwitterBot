{
  "nbformat": 4,
  "nbformat_minor": 0,
  "metadata": {
    "colab": {
      "name": "scrape_twitter",
      "provenance": [],
      "toc_visible": true,
      "mount_file_id": "1wC0BGxUAZYi9R9uA_TydA9T0W_2_OVDZ",
      "authorship_tag": "ABX9TyNlz6h0F27tbCTHMp2cLkBG",
      "include_colab_link": true
    },
    "kernelspec": {
      "name": "python3",
      "display_name": "Python 3"
    }
  },
  "cells": [
    {
      "cell_type": "markdown",
      "metadata": {
        "id": "view-in-github",
        "colab_type": "text"
      },
      "source": [
        "<a href=\"https://colab.research.google.com/github/RyanXJu/TwitterBot/blob/master/scrape_twitter.ipynb\" target=\"_parent\"><img src=\"https://colab.research.google.com/assets/colab-badge.svg\" alt=\"Open In Colab\"/></a>"
      ]
    },
    {
      "cell_type": "code",
      "metadata": {
        "id": "paeXhheA76fU",
        "colab_type": "code",
        "colab": {
          "base_uri": "https://localhost:8080/",
          "height": 173
        },
        "outputId": "73c88d4c-4ccc-45d6-f72e-1d47b05115e5"
      },
      "source": [
        "!pip install GetOldTweets3"
      ],
      "execution_count": 83,
      "outputs": [
        {
          "output_type": "stream",
          "text": [
            "Collecting GetOldTweets3\n",
            "  Downloading https://files.pythonhosted.org/packages/ed/f4/a00c2a7c90801abc875325bb5416ce9090ac86d06a00cc887131bd73ba45/GetOldTweets3-0.0.11-py3-none-any.whl\n",
            "Requirement already satisfied: lxml>=3.5.0 in /usr/local/lib/python3.6/dist-packages (from GetOldTweets3) (4.2.6)\n",
            "Collecting pyquery>=1.2.10\n",
            "  Downloading https://files.pythonhosted.org/packages/78/43/95d42e386c61cb639d1a0b94f0c0b9f0b7d6b981ad3c043a836c8b5bc68b/pyquery-1.4.1-py2.py3-none-any.whl\n",
            "Collecting cssselect>0.7.9\n",
            "  Downloading https://files.pythonhosted.org/packages/3b/d4/3b5c17f00cce85b9a1e6f91096e1cc8e8ede2e1be8e96b87ce1ed09e92c5/cssselect-1.1.0-py2.py3-none-any.whl\n",
            "Installing collected packages: cssselect, pyquery, GetOldTweets3\n",
            "Successfully installed GetOldTweets3-0.0.11 cssselect-1.1.0 pyquery-1.4.1\n"
          ],
          "name": "stdout"
        }
      ]
    },
    {
      "cell_type": "code",
      "metadata": {
        "id": "EmF_JWm98rno",
        "colab_type": "code",
        "colab": {}
      },
      "source": [
        "# Imports\n",
        "import GetOldTweets3 as got\n",
        "import pandas as pd"
      ],
      "execution_count": 85,
      "outputs": []
    },
    {
      "cell_type": "code",
      "metadata": {
        "id": "kEMOhpsgDRsp",
        "colab_type": "code",
        "colab": {}
      },
      "source": [
        "# Function the pulls tweets from a specific username and turns to csv file\n",
        "\n",
        "# Parameters: (list of twitter usernames), (max number of most recent tweets to pull from)\n",
        "def username_tweets_to_csv(username, count, start_day, end_day):\n",
        "    # Creation of query object\n",
        "    tweetCriteria = got.manager.TweetCriteria().setUsername(username)\\\n",
        "                                            .setMaxTweets(count)\\\n",
        "                                            .setSince(start_day)\\\n",
        "                                            .setUntil(end_day)\n",
        "    # Creation of list that contains all tweets\n",
        "    tweets = got.manager.TweetManager.getTweets(tweetCriteria)\n",
        "\n",
        "    # Creating list of chosen tweet data\n",
        "    user_tweets = [[tweet.date, tweet.text] for tweet in tweets]\n",
        "\n",
        "    # Creation of dataframe from tweets list\n",
        "    tweets_df = pd.DataFrame(user_tweets, columns = ['Datetime', 'Text'])\n",
        "\n",
        "    # Converting dataframe to CSV\n",
        "    tweets_df.to_csv('{}-{}k-tweets.csv'.format(username, int(count/1000)), sep=',')"
      ],
      "execution_count": 100,
      "outputs": []
    },
    {
      "cell_type": "code",
      "metadata": {
        "id": "pmhfWoTWIzLu",
        "colab_type": "code",
        "colab": {}
      },
      "source": [
        "# Parameters: (text query you want to search), (max number of most recent tweets to pull from)\n",
        "def text_query_to_csv(text_query, count, start_day, end_day):\n",
        "    # Creation of query object\n",
        "    tweetCriteria = got.manager.TweetCriteria().setQuerySearch(text_query)\\\n",
        "                                                .setMaxTweets(count)\\\n",
        "                                                .setSince(start_day)\\\n",
        "                                                .setUntil(end_day)\n",
        "    # Creation of list that contains all tweets\n",
        "    tweets = got.manager.TweetManager.getTweets(tweetCriteria)\n",
        "\n",
        "    # Creating list of chosen tweet data\n",
        "    text_tweets = [[tweet.date, tweet.text] for tweet in tweets]\n",
        "\n",
        "    # Creation of dataframe from tweets\n",
        "    tweets_df = pd.DataFrame(text_tweets, columns = ['Datetime', 'Text'])\n",
        "\n",
        "    # Converting tweets dataframe to csv file\n",
        "    tweets_df.to_csv('{}-{}k-tweets.csv'.format(text_query, int(count/1000)), sep=',')"
      ],
      "execution_count": 98,
      "outputs": []
    },
    {
      "cell_type": "code",
      "metadata": {
        "id": "JKFiF79PI3LY",
        "colab_type": "code",
        "colab": {}
      },
      "source": [
        "# Input username(s) to scrape tweets and name csv file\n",
        "# Max recent tweets pulls x amount of most recent tweets from that user\n",
        "username = 'JustinTrudeau'\n",
        "count = 10000\n",
        "start = \"2020-06-01\"\n",
        "end = \"2020-07-02\"\n",
        "\n",
        "# Calling function to turn username's past x amount of tweets into a CSV file\n",
        "username_tweets_to_csv(username, count, start, end)"
      ],
      "execution_count": 101,
      "outputs": []
    },
    {
      "cell_type": "code",
      "metadata": {
        "id": "S1V1z6spMHRV",
        "colab_type": "code",
        "colab": {
          "base_uri": "https://localhost:8080/",
          "height": 34
        },
        "outputId": "a5af985e-afc3-4eba-8bf5-60fed2cc8498"
      },
      "source": [
        "Trudeau = pd.read_csv(\"JustinTrudeau-10k-tweets.csv\", header = 0, index_col= 0 )\n",
        "Trudeau.shape"
      ],
      "execution_count": 112,
      "outputs": [
        {
          "output_type": "execute_result",
          "data": {
            "text/plain": [
              "(312, 2)"
            ]
          },
          "metadata": {
            "tags": []
          },
          "execution_count": 112
        }
      ]
    },
    {
      "cell_type": "code",
      "metadata": {
        "id": "MTYuUUMFMh8H",
        "colab_type": "code",
        "colab": {
          "base_uri": "https://localhost:8080/",
          "height": 206
        },
        "outputId": "16f3bcf7-e293-4687-c2ae-a93bc23286c1"
      },
      "source": [
        "Trudeau.head()"
      ],
      "execution_count": 113,
      "outputs": [
        {
          "output_type": "execute_result",
          "data": {
            "text/html": [
              "<div>\n",
              "<style scoped>\n",
              "    .dataframe tbody tr th:only-of-type {\n",
              "        vertical-align: middle;\n",
              "    }\n",
              "\n",
              "    .dataframe tbody tr th {\n",
              "        vertical-align: top;\n",
              "    }\n",
              "\n",
              "    .dataframe thead th {\n",
              "        text-align: right;\n",
              "    }\n",
              "</style>\n",
              "<table border=\"1\" class=\"dataframe\">\n",
              "  <thead>\n",
              "    <tr style=\"text-align: right;\">\n",
              "      <th></th>\n",
              "      <th>Datetime</th>\n",
              "      <th>Text</th>\n",
              "    </tr>\n",
              "  </thead>\n",
              "  <tbody>\n",
              "    <tr>\n",
              "      <th>0</th>\n",
              "      <td>2020-07-01 23:38:20+00:00</td>\n",
              "      <td>To everyone at the Ottawa Food Bank Farm, than...</td>\n",
              "    </tr>\n",
              "    <tr>\n",
              "      <th>1</th>\n",
              "      <td>2020-07-01 23:37:52+00:00</td>\n",
              "      <td>Merci à la ferme de la Banque d’alimentation d...</td>\n",
              "    </tr>\n",
              "    <tr>\n",
              "      <th>2</th>\n",
              "      <td>2020-07-01 19:43:17+00:00</td>\n",
              "      <td>This Canada Day, volunteers at the Ottawa Food...</td>\n",
              "    </tr>\n",
              "    <tr>\n",
              "      <th>3</th>\n",
              "      <td>2020-07-01 19:43:05+00:00</td>\n",
              "      <td>En cette Fête du Canada, des bénévoles de la f...</td>\n",
              "    </tr>\n",
              "    <tr>\n",
              "      <th>4</th>\n",
              "      <td>2020-07-01 16:53:18+00:00</td>\n",
              "      <td>Hey parents, check out the video below from @W...</td>\n",
              "    </tr>\n",
              "  </tbody>\n",
              "</table>\n",
              "</div>"
            ],
            "text/plain": [
              "                    Datetime                                               Text\n",
              "0  2020-07-01 23:38:20+00:00  To everyone at the Ottawa Food Bank Farm, than...\n",
              "1  2020-07-01 23:37:52+00:00  Merci à la ferme de la Banque d’alimentation d...\n",
              "2  2020-07-01 19:43:17+00:00  This Canada Day, volunteers at the Ottawa Food...\n",
              "3  2020-07-01 19:43:05+00:00  En cette Fête du Canada, des bénévoles de la f...\n",
              "4  2020-07-01 16:53:18+00:00  Hey parents, check out the video below from @W..."
            ]
          },
          "metadata": {
            "tags": []
          },
          "execution_count": 113
        }
      ]
    }
  ]
}